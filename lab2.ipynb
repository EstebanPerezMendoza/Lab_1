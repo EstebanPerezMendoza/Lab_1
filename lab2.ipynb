{
  "nbformat": 4,
  "nbformat_minor": 0,
  "metadata": {
    "colab": {
      "provenance": [],
      "collapsed_sections": [],
      "mount_file_id": "1vymbgx-kVR8G_8pTWfwsh0pdwXGIihOQ",
      "authorship_tag": "ABX9TyPZr17pShsSxvnaI3I0PXsk",
      "include_colab_link": true
    },
    "kernelspec": {
      "name": "python3",
      "display_name": "Python 3"
    },
    "language_info": {
      "name": "python"
    }
  },
  "cells": [
    {
      "cell_type": "markdown",
      "metadata": {
        "id": "view-in-github",
        "colab_type": "text"
      },
      "source": [
        "<a href=\"https://colab.research.google.com/github/EstebanPerezMendoza/Lab_1/blob/main/lab2.ipynb\" target=\"_parent\"><img src=\"https://colab.research.google.com/assets/colab-badge.svg\" alt=\"Open In Colab\"/></a>"
      ]
    },
    {
      "cell_type": "code",
      "execution_count": 2,
      "metadata": {
        "id": "BbMYQ014gqpf"
      },
      "outputs": [],
      "source": [
        "import pandas as pd"
      ]
    },
    {
      "cell_type": "code",
      "source": [
        "#clase del grafo\n",
        "class ciudades(object):\n",
        "    #constructor con diccionario nombre_ciudad: lista de ciudades a las que puede llegar\n",
        "    #la parte de las lista despues la voy a cambiar por otro diccionario que sea nombre_destino:distancia\n",
        "    def __init__(self):\n",
        "        self.relaciones = {}\n",
        "    def __str__(self):\n",
        "        return str(self.relaciones)\n",
        "#se agrega un nodo al grafo como el nombre de la ciudad siendo una llave del diccionario\n",
        "def agregar(grafo, elemento):\n",
        "      grafo.relaciones.update({elemento:[]})\n",
        "#se usa el nombre de la ciudad de origen como llave y se le añade a la lista que tiene el destino\n",
        "def relacionarUnilateral(grafo, origen, destino):\n",
        "      grafo.relaciones[origen].append(destino)\n",
        "#funcion para añadir arista como el nombre en una lista dentro del diccionario de la ciudad origen\n",
        "def relacionar(grafo, elemento1, elemento2):\n",
        "    relacionarUnilateral(grafo, elemento1, elemento2)\n",
        "    relacionarUnilateral(grafo, elemento2, elemento1)\n",
        "    "
      ],
      "metadata": {
        "id": "88BS1mZl3m_4"
      },
      "execution_count": 3,
      "outputs": []
    },
    {
      "cell_type": "code",
      "source": [
        "import keyword\n",
        "#Se llama a el archivo de excel donde estan los datos y se vuelve un dataframe\n",
        "df = pd.DataFrame(pd.read_excel(\"datalab.xlsx\"))\n",
        "print(df.columns)\n",
        "#se obtienen solo las columnas de origen y destino como dos listas independientes\n",
        "origenes= df[\"Ciudad Origen\"].tolist()\n",
        "destinos=df['Ciudad Destino'].tolist()\n",
        "#se quitan los repetidos en origenes para tener los nodos\n",
        "capitales=list(dict.fromkeys(origenes))\n",
        "#se crea el grafo\n",
        "Ciudades=ciudades()\n",
        "#se introduce cada nodo siendo el nombre de cada ciudad de origen\n",
        "for x in capitales:\n",
        "  agregar(Ciudades, x)\n",
        "#se hace un ciclo para introducirle a cada nodo sus aristas\n",
        "for i in Ciudades.relaciones:\n",
        "  #ciclo para que vaya por cada uno de las ciudades destino para cada nodo\n",
        "  for j in range(len(destinos)):\n",
        "    #si la ciudad de origen actual es la misma que el nodo para el que se estan añadiendo las aristas\n",
        "    if i== origenes[j]:\n",
        "      #que el se añada en su lista ese elemento en la lista de destinos con el mismo indice que con la verificacion de la lista origenes\n",
        "      relacionar(Ciudades, i, destinos[j])\n",
        "print(Ciudades.relaciones)\n",
        "\n",
        "\n",
        "\n"
      ],
      "metadata": {
        "colab": {
          "base_uri": "https://localhost:8080/"
        },
        "id": "jP0y_pOgm5rV",
        "outputId": "1196ffd4-e2fb-46f0-c835-d3fa8f19edd7"
      },
      "execution_count": 28,
      "outputs": [
        {
          "output_type": "stream",
          "name": "stdout",
          "text": [
            "Index(['Ciudad Origen', 'Pais Origen', 'Ciudad Destino', 'Latitud.O',\n",
            "       'Longitud.O', 'Latitud.D', 'Longitud.D'],\n",
            "      dtype='object')\n",
            "342\n",
            "{'ARAUCA - MUNICIPIO': ['VILLAVICENCIO', 'BOGOTA', 'PEREIRA', 'BUCARAMANGA', 'CUCUTA', 'BOGOTA', 'BUCARAMANGA', 'CUCUTA', 'VILLAVICENCIO'], 'ARMENIA': ['PEREIRA', 'VILLAVICENCIO', 'BOGOTA', 'SAN ANDRES - ISLA', 'BARRANQUILLA', 'BUCARAMANGA', 'CALI', 'CARTAGENA', 'CUCUTA', 'LETICIA', 'MONTERIA', 'SANTA MARTA', 'VALLEDUPAR', 'FLORENCIA', 'NEIVA', 'POPAYAN', 'MEDELLIN', 'PASTO', 'RIOHACHA', 'BARRANQUILLA', 'BOGOTA', 'BUCARAMANGA', 'CALI', 'CARTAGENA', 'CUCUTA', 'FLORENCIA', 'LETICIA', 'MEDELLIN', 'MONTERIA', 'NEIVA', 'PASTO', 'PEREIRA', 'POPAYAN', 'RIOHACHA', 'SAN ANDRES - ISLA', 'SANTA MARTA', 'VALLEDUPAR', 'VILLAVICENCIO'], 'BARRANQUILLA': ['ARMENIA', 'CARTAGENA', 'BARRANQUILLA', 'BARRANQUILLA', 'MONTERIA', 'RIOHACHA', 'VALLEDUPAR', 'BUCARAMANGA', 'BOGOTA', 'SANTA MARTA', 'MEDELLIN', 'CALI', 'SAN ANDRES - ISLA', 'ARMENIA', 'CUCUTA', 'LETICIA', 'PEREIRA', 'PASTO', 'VILLAVICENCIO', 'BOGOTA', 'BUCARAMANGA', 'CALI', 'CARTAGENA', 'CUCUTA', 'LETICIA', 'MEDELLIN', 'MONTERIA', 'PASTO', 'PEREIRA', 'RIOHACHA', 'SAN ANDRES - ISLA', 'SANTA MARTA', 'VALLEDUPAR', 'VILLAVICENCIO'], 'BOGOTA': ['ARAUCA - MUNICIPIO', 'ARMENIA', 'BARRANQUILLA', 'PEREIRA', 'BUCARAMANGA', 'CUCUTA', 'ARAUCA - MUNICIPIO', 'BARRANQUILLA', 'BOGOTA', 'BOGOTA', 'CALI', 'CARTAGENA', 'MEDELLIN', 'NEIVA', 'RIOHACHA', 'VILLAVICENCIO', 'IBAGUE', 'YOPAL', 'ARMENIA', 'LETICIA', 'QUIBDO', 'MITU', 'SAN ANDRES - ISLA', 'MONTERIA', 'PASTO', 'SANTA MARTA', 'VALLEDUPAR', 'FLORENCIA', 'POPAYAN', 'MANIZALES', 'PUERTO CARRENO', 'BUCARAMANGA', 'CALI', 'CARTAGENA', 'CUCUTA', 'FLORENCIA', 'IBAGUE', 'LETICIA', 'MANIZALES', 'MEDELLIN', 'MITU', 'MONTERIA', 'NEIVA', 'PASTO', 'PEREIRA', 'POPAYAN', 'PUERTO CARRENO', 'QUIBDO', 'RIOHACHA', 'SAN ANDRES - ISLA', 'SAN JOSE DEL GUAVIARE', 'SANTA MARTA', 'VALLEDUPAR', 'VILLAVICENCIO', 'YOPAL'], 'BUCARAMANGA': ['ARAUCA - MUNICIPIO', 'ARMENIA', 'BARRANQUILLA', 'BOGOTA', 'BUCARAMANGA', 'BUCARAMANGA', 'MEDELLIN', 'BARRANQUILLA', 'BOGOTA', 'CUCUTA', 'SANTA MARTA', 'SAN ANDRES - ISLA', 'ARMENIA', 'CALI', 'CARTAGENA', 'LETICIA', 'MONTERIA', 'PEREIRA', 'PASTO', 'RIOHACHA', 'VALLEDUPAR', 'ARAUCA - MUNICIPIO', 'VILLAVICENCIO', 'CALI', 'CARTAGENA', 'CUCUTA', 'LETICIA', 'MEDELLIN', 'MONTERIA', 'PASTO', 'PEREIRA', 'RIOHACHA', 'SAN ANDRES - ISLA', 'SANTA MARTA', 'VALLEDUPAR', 'VILLAVICENCIO'], 'CALI': ['ARMENIA', 'BARRANQUILLA', 'BOGOTA', 'BUCARAMANGA', 'MEDELLIN', 'BOGOTA', 'QUIBDO', 'POPAYAN', 'PASTO', 'SAN ANDRES - ISLA', 'BARRANQUILLA', 'CARTAGENA', 'MONTERIA', 'SANTA MARTA', 'ARMENIA', 'BUCARAMANGA', 'CUCUTA', 'LETICIA', 'PEREIRA', 'RIOHACHA', 'VALLEDUPAR', 'FLORENCIA', 'VILLAVICENCIO', 'CARTAGENA', 'CUCUTA', 'FLORENCIA', 'LETICIA', 'MEDELLIN', 'MONTERIA', 'PASTO', 'PEREIRA', 'POPAYAN', 'QUIBDO', 'RIOHACHA', 'SAN ANDRES - ISLA', 'SANTA MARTA', 'VALLEDUPAR', 'VILLAVICENCIO'], 'CARTAGENA': ['ARMENIA', 'BARRANQUILLA', 'BOGOTA', 'BUCARAMANGA', 'CALI', 'BOGOTA', 'SANTA MARTA', 'MEDELLIN', 'SAN ANDRES - ISLA', 'CALI', 'PEREIRA', 'ARMENIA', 'BARRANQUILLA', 'BUCARAMANGA', 'CUCUTA', 'LETICIA', 'MONTERIA', 'PASTO', 'RIOHACHA', 'VALLEDUPAR', 'YOPAL', 'NEIVA', 'VILLAVICENCIO', 'CUCUTA', 'LETICIA', 'MEDELLIN', 'MONTERIA', 'NEIVA', 'PASTO', 'PEREIRA', 'RIOHACHA', 'SAN ANDRES - ISLA', 'SANTA MARTA', 'VALLEDUPAR', 'VILLAVICENCIO'], 'CUCUTA': ['ARAUCA - MUNICIPIO', 'ARMENIA', 'BARRANQUILLA', 'BOGOTA', 'BUCARAMANGA', 'CALI', 'CARTAGENA', 'BUCARAMANGA', 'BOGOTA', 'SAN ANDRES - ISLA', 'ARMENIA', 'BARRANQUILLA', 'CALI', 'CARTAGENA', 'LETICIA', 'MONTERIA', 'PEREIRA', 'PASTO', 'RIOHACHA', 'SANTA MARTA', 'VALLEDUPAR', 'ARAUCA - MUNICIPIO', 'VILLAVICENCIO', 'LETICIA', 'MONTERIA', 'PASTO', 'PEREIRA', 'RIOHACHA', 'SAN ANDRES - ISLA', 'SANTA MARTA', 'VALLEDUPAR', 'VILLAVICENCIO'], 'FLORENCIA': ['ARMENIA', 'BOGOTA', 'CALI', 'ARMENIA', 'BOGOTA', 'IBAGUE', 'NEIVA', 'CALI', 'IBAGUE', 'NEIVA'], 'IBAGUE': ['BOGOTA', 'FLORENCIA', 'BOGOTA', 'FLORENCIA', 'NEIVA', 'POPAYAN', 'VILLAVICENCIO', 'MEDELLIN', 'MEDELLIN', 'POPAYAN', 'VILLAVICENCIO'], 'LETICIA': ['ARMENIA', 'BARRANQUILLA', 'BOGOTA', 'BUCARAMANGA', 'CALI', 'CARTAGENA', 'CUCUTA', 'MITU', 'LETICIA', 'LETICIA', 'VILLAVICENCIO', 'BOGOTA', 'SAN ANDRES - ISLA', 'ARMENIA', 'BARRANQUILLA', 'BUCARAMANGA', 'CALI', 'CARTAGENA', 'CUCUTA', 'MONTERIA', 'PEREIRA', 'PASTO', 'RIOHACHA', 'SANTA MARTA', 'VALLEDUPAR', 'MITU', 'MONTERIA', 'PASTO', 'PEREIRA', 'RIOHACHA', 'SAN ANDRES - ISLA', 'SANTA MARTA', 'VALLEDUPAR'], 'MANIZALES': ['BOGOTA', 'BOGOTA', 'MEDELLIN', 'MEDELLIN'], 'MEDELLIN': ['ARMENIA', 'BARRANQUILLA', 'BOGOTA', 'BUCARAMANGA', 'CALI', 'CARTAGENA', 'IBAGUE', 'MANIZALES', 'BUCARAMANGA', 'QUIBDO', 'CALI', 'NEIVA', 'VILLAVICENCIO', 'MEDELLIN', 'MEDELLIN', 'ARMENIA', 'BOGOTA', 'PEREIRA', 'BARRANQUILLA', 'CARTAGENA', 'RIOHACHA', 'IBAGUE', 'MONTERIA', 'MANIZALES', 'POPAYAN', 'VALLEDUPAR', 'MONTERIA', 'NEIVA', 'PEREIRA', 'POPAYAN', 'QUIBDO', 'SAN ANDRES - ISLA', 'VALLEDUPAR', 'VILLAVICENCIO'], 'MITU': ['BOGOTA', 'LETICIA', 'LETICIA', 'VILLAVICENCIO', 'MITU', 'MITU', 'MONTERIA', 'BOGOTA', 'MONTERIA', 'SAN JOSE DEL GUAVIARE', 'VILLAVICENCIO'], 'MONTERIA': ['ARMENIA', 'BARRANQUILLA', 'BOGOTA', 'BUCARAMANGA', 'CALI', 'CARTAGENA', 'CUCUTA', 'LETICIA', 'MEDELLIN', 'MITU', 'BARRANQUILLA', 'BOGOTA', 'MITU', 'CALI', 'SAN ANDRES - ISLA', 'ARMENIA', 'BUCARAMANGA', 'CARTAGENA', 'CUCUTA', 'LETICIA', 'PEREIRA', 'PASTO', 'RIOHACHA', 'SANTA MARTA', 'VALLEDUPAR', 'MEDELLIN', 'VILLAVICENCIO', 'PASTO', 'PEREIRA', 'RIOHACHA', 'SAN ANDRES - ISLA', 'SANTA MARTA', 'VALLEDUPAR', 'VILLAVICENCIO'], 'NEIVA': ['ARMENIA', 'BOGOTA', 'CARTAGENA', 'FLORENCIA', 'IBAGUE', 'MEDELLIN', 'MEDELLIN', 'POPAYAN', 'VILLAVICENCIO', 'BOGOTA', 'ARMENIA', 'FLORENCIA', 'CARTAGENA', 'POPAYAN', 'VILLAVICENCIO'], 'PASTO': ['ARMENIA', 'BARRANQUILLA', 'BOGOTA', 'BUCARAMANGA', 'CALI', 'CARTAGENA', 'CUCUTA', 'LETICIA', 'MONTERIA', 'CALI', 'BOGOTA', 'SAN ANDRES - ISLA', 'ARMENIA', 'BARRANQUILLA', 'BUCARAMANGA', 'CARTAGENA', 'CUCUTA', 'LETICIA', 'MONTERIA', 'PEREIRA', 'RIOHACHA', 'SANTA MARTA', 'VALLEDUPAR', 'PEREIRA', 'RIOHACHA', 'SAN ANDRES - ISLA', 'SANTA MARTA', 'VALLEDUPAR'], 'PEREIRA': ['ARAUCA - MUNICIPIO', 'ARMENIA', 'BARRANQUILLA', 'BOGOTA', 'BUCARAMANGA', 'CALI', 'CARTAGENA', 'CUCUTA', 'LETICIA', 'MEDELLIN', 'MONTERIA', 'PASTO', 'BOGOTA', 'MEDELLIN', 'CARTAGENA', 'SAN ANDRES - ISLA', 'ARMENIA', 'BARRANQUILLA', 'BUCARAMANGA', 'CALI', 'CUCUTA', 'LETICIA', 'MONTERIA', 'PASTO', 'RIOHACHA', 'SANTA MARTA', 'VALLEDUPAR', 'VILLAVICENCIO', 'RIOHACHA', 'SAN ANDRES - ISLA', 'SANTA MARTA', 'VALLEDUPAR', 'VILLAVICENCIO'], 'POPAYAN': ['ARMENIA', 'BOGOTA', 'CALI', 'IBAGUE', 'MEDELLIN', 'NEIVA', 'NEIVA', 'CALI', 'ARMENIA', 'BOGOTA', 'IBAGUE', 'VILLAVICENCIO', 'MEDELLIN'], 'PUERTO CARRENO': ['BOGOTA', 'PUERTO CARRENO', 'PUERTO CARRENO', 'VILLAVICENCIO', 'BOGOTA', 'VILLAVICENCIO'], 'QUIBDO': ['BOGOTA', 'CALI', 'MEDELLIN', 'MEDELLIN', 'BOGOTA', 'CALI'], 'RIOHACHA': ['ARMENIA', 'BARRANQUILLA', 'BOGOTA', 'BUCARAMANGA', 'CALI', 'CARTAGENA', 'CUCUTA', 'LETICIA', 'MEDELLIN', 'MONTERIA', 'PASTO', 'PEREIRA', 'BARRANQUILLA', 'BOGOTA', 'VALLEDUPAR', 'SAN ANDRES - ISLA', 'ARMENIA', 'BUCARAMANGA', 'CALI', 'CARTAGENA', 'CUCUTA', 'LETICIA', 'MONTERIA', 'PEREIRA', 'PASTO', 'SANTA MARTA', 'SAN ANDRES - ISLA', 'SANTA MARTA'], 'SAN ANDRES - ISLA': ['ARMENIA', 'BARRANQUILLA', 'BOGOTA', 'BUCARAMANGA', 'CALI', 'CARTAGENA', 'CUCUTA', 'LETICIA', 'MONTERIA', 'PASTO', 'PEREIRA', 'RIOHACHA', 'MEDELLIN', 'BOGOTA', 'CALI', 'CARTAGENA', 'ARMENIA', 'BARRANQUILLA', 'BUCARAMANGA', 'CUCUTA', 'MONTERIA', 'PEREIRA', 'PASTO', 'SANTA MARTA', 'VALLEDUPAR', 'LETICIA', 'RIOHACHA', 'VILLAVICENCIO', 'SANTA MARTA', 'VALLEDUPAR', 'VILLAVICENCIO'], 'SAN JOSE DEL GUAVIARE': ['VILLAVICENCIO', 'MITU', 'BOGOTA'], 'SANTA MARTA': ['ARMENIA', 'BARRANQUILLA', 'BOGOTA', 'BUCARAMANGA', 'CALI', 'CARTAGENA', 'CUCUTA', 'LETICIA', 'MONTERIA', 'PASTO', 'PEREIRA', 'RIOHACHA', 'SAN ANDRES - ISLA', 'BUCARAMANGA', 'BARRANQUILLA', 'BOGOTA', 'CALI', 'SAN ANDRES - ISLA', 'ARMENIA', 'CARTAGENA', 'CUCUTA', 'LETICIA', 'MONTERIA', 'PEREIRA', 'PASTO', 'RIOHACHA', 'VALLEDUPAR', 'VILLAVICENCIO', 'VALLEDUPAR', 'VILLAVICENCIO'], 'VALLEDUPAR': ['ARMENIA', 'BARRANQUILLA', 'BOGOTA', 'BUCARAMANGA', 'CALI', 'CARTAGENA', 'CUCUTA', 'LETICIA', 'MEDELLIN', 'MONTERIA', 'PASTO', 'PEREIRA', 'RIOHACHA', 'SAN ANDRES - ISLA', 'SANTA MARTA', 'BARRANQUILLA', 'MEDELLIN', 'BOGOTA', 'SAN ANDRES - ISLA', 'ARMENIA', 'BUCARAMANGA', 'CALI', 'CARTAGENA', 'CUCUTA', 'LETICIA', 'MONTERIA', 'PEREIRA', 'PASTO', 'SANTA MARTA', 'VILLAVICENCIO', 'VILLAVICENCIO'], 'VILLAVICENCIO': ['ARAUCA - MUNICIPIO', 'ARMENIA', 'BARRANQUILLA', 'BOGOTA', 'BUCARAMANGA', 'CALI', 'CARTAGENA', 'CUCUTA', 'IBAGUE', 'LETICIA', 'MEDELLIN', 'MITU', 'MONTERIA', 'NEIVA', 'PEREIRA', 'POPAYAN', 'PUERTO CARRENO', 'SAN ANDRES - ISLA', 'SAN JOSE DEL GUAVIARE', 'SANTA MARTA', 'VALLEDUPAR', 'ARAUCA - MUNICIPIO', 'MITU', 'PUERTO CARRENO', 'VILLAVICENCIO', 'VILLAVICENCIO', 'NEIVA', 'BOGOTA', 'ARMENIA', 'IBAGUE', 'BUCARAMANGA', 'CALI', 'MEDELLIN', 'PEREIRA', 'SAN ANDRES - ISLA', 'BARRANQUILLA', 'CARTAGENA', 'CUCUTA', 'MONTERIA', 'SANTA MARTA', 'VALLEDUPAR', 'YOPAL'], 'YOPAL': ['BOGOTA', 'CARTAGENA', 'BOGOTA', 'VILLAVICENCIO']}\n"
          ]
        }
      ]
    }
  ]
}